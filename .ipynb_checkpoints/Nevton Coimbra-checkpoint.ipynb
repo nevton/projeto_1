{
 "cells": [
  {
   "cell_type": "markdown",
   "metadata": {},
   "source": [
    "# Projeto 1 - Ciência dos Dados"
   ]
  },
  {
   "cell_type": "markdown",
   "metadata": {},
   "source": [
    "<font color='red'>Nome: Nevton Coimbra Motta de Castro</font>"
   ]
  },
  {
   "cell_type": "markdown",
   "metadata": {},
   "source": [
    "## Pergunta (s) a ser respondida"
   ]
  },
  {
   "cell_type": "markdown",
   "metadata": {},
   "source": [
    "O que acontece com as taxas de importação e exportação dos países que entram na União Europeia e como se comparam com outros países?"
   ]
  },
  {
   "cell_type": "markdown",
   "metadata": {},
   "source": [
    "## Explicação da hipótese e mecanismo"
   ]
  },
  {
   "cell_type": "markdown",
   "metadata": {},
   "source": [
    "Por conta da Zona de livre circulação de pessoas, bens, serviços e capitais os países que se juntam à União Europeia ficam expostos a um Mercado comum Europeu. É esperado que as taxas de importação e exportação dos países após ingressarem na união europeia tenha um crescimento muito elevado, mesmo comparado com países vizinhos que não ingressaram na EU. https://europa.eu/european-union/about-eu/figures/economy_en#trade"
   ]
  },
  {
   "cell_type": "markdown",
   "metadata": {},
   "source": [
    "## Bases de dados usadas"
   ]
  },
  {
   "cell_type": "markdown",
   "metadata": {},
   "source": [
    "Base de dados do percentual que a exportação representa do PIB de cada pais ao longo dos anos:\n",
    "https://data.worldbank.org/indicator/NE.EXP.GNFS.ZS\n",
    "Base de dados do percentual que a importação representa do PIB de cada pais ao longo dos anos:\n",
    "https://data.worldbank.org/indicator/NE.IMP.GNFS.ZS"
   ]
  },
  {
   "cell_type": "markdown",
   "metadata": {},
   "source": [
    "## Análise de dados"
   ]
  },
  {
   "cell_type": "markdown",
   "metadata": {},
   "source": [
    "Insira abaixo uma análise de dados tratada para ter maior clareza. \n",
    "\n",
    "Lembre-se de que, além deste arquivo principal, você precisa entregar um ou mais *notebooks* mais brutos com todas as tentativas que fez e que não deram certo .\n",
    "\n",
    "**Não inclua dados ou gráficos sem motivação nem interpretação** - sempre que fizer uma análise, plot ou tablea, diga qual sua intenção. Logo após a apresentação diga qual conclusão específica ou interpretação você tira daquela análise"
   ]
  },
  {
   "cell_type": "code",
   "execution_count": 4,
   "metadata": {},
   "outputs": [],
   "source": [
    "#import\n",
    "%matplotlib inline\n",
    "import pandas as pd\n",
    "import numpy as np\n",
    "import math as math\n",
    "from scipy import stats\n",
    "import matplotlib.pyplot as plt\n",
    "import seaborn as sns\n",
    "#leitura de arquivos\n",
    "\n",
    "imp = pd.read_excel('imports_percent_of_gdp.xlsx').set_index(\"country\")\n",
    "exp = pd.read_excel('exports_percent_of_gdp.xlsx').set_index(\"country\")"
   ]
  },
  {
   "cell_type": "markdown",
   "metadata": {},
   "source": [
    "## Listas\n"
   ]
  },
  {
   "cell_type": "code",
   "execution_count": 90,
   "metadata": {},
   "outputs": [],
   "source": [
    "#paises que entraram em 1995\n",
    "euro_1995 = [\"Sweden\", \"Finland\", \"Austria\"]\n",
    "\n",
    "#paises que entraram em 2004\n",
    "euro_2004 = [\"Hungary\", \"Poland\"]\n",
    "\n",
    "#todos os paises da uniao europeia\n",
    "euro1 = [\"Austria\", \"Belgium\", \"Bulgaria\", \"Croatia\", \"Republic of Cyprus\", \"Czech Republic\", \"Denmark\", \"Estonia\", \"Finland\", \"France\", \"Germany\", \"Greece\", \"Hungary\", \"Ireland\", \"Italy\", \"Latvia\", \"Lithuania\", \"Luxembourg\", \"Malta\", \"Netherlands\", \"Poland\", \"Portugal\", \"Romania\", \"Slovakia\", \"Slovenia\", \"Spain\", \"Sweden\", \"United Kingdom\"]\n",
    "\n",
    "#euro 1995 + euro 2004\n",
    "euro2 = [\"Sweden\", \"Finland\", \"Austria\", \"Hungary\", \"Poland\"]\n",
    "\n",
    "#paises para controle\n",
    "controle = [\"Norway\", \"Iceland\", \"Ukraine\"]\n",
    "\n",
    "#euro 1995 + euro 2004 + paises controle\n",
    "euro = [\"Sweden\", \"Finland\", \"Austria\", \"Hungary\", \"Poland\", \"Norway\", \"Iceland\", \"Ukraine\"]\n",
    "\n",
    "#anos avaliados\n",
    "colunas=[1994, 2003, 2012]\n",
    "\n",
    "\n",
    "exp1 = exp.loc[euro,[1994,2003,2012]]\n",
    "imp1 = imp.loc[euro,[1994,2003,2012]]\n",
    "exp_s = exp.loc[euro2,[1994,2003,2012]]\n",
    "imp_s = imp.loc[euro2,[1994,2003,2012]]\n",
    "exp_n = exp.loc[controle,[1994,2003,2012]]\n",
    "imp_n = imp.loc[controle,[1994,2003,2012]]"
   ]
  },
  {
   "cell_type": "markdown",
   "metadata": {},
   "source": [
    "## Merge"
   ]
  },
  {
   "cell_type": "code",
   "execution_count": 96,
   "metadata": {},
   "outputs": [
    {
     "data": {
      "text/html": [
       "<div>\n",
       "<style scoped>\n",
       "    .dataframe tbody tr th:only-of-type {\n",
       "        vertical-align: middle;\n",
       "    }\n",
       "\n",
       "    .dataframe tbody tr th {\n",
       "        vertical-align: top;\n",
       "    }\n",
       "\n",
       "    .dataframe thead th {\n",
       "        text-align: right;\n",
       "    }\n",
       "</style>\n",
       "<table border=\"1\" class=\"dataframe\">\n",
       "  <thead>\n",
       "    <tr style=\"text-align: right;\">\n",
       "      <th></th>\n",
       "      <th>1994_imports</th>\n",
       "      <th>2003_imports</th>\n",
       "      <th>2012_imports</th>\n",
       "      <th>1994_exports</th>\n",
       "      <th>2003_exports</th>\n",
       "      <th>2012_exports</th>\n",
       "    </tr>\n",
       "    <tr>\n",
       "      <th>country</th>\n",
       "      <th></th>\n",
       "      <th></th>\n",
       "      <th></th>\n",
       "      <th></th>\n",
       "      <th></th>\n",
       "      <th></th>\n",
       "    </tr>\n",
       "  </thead>\n",
       "  <tbody>\n",
       "    <tr>\n",
       "      <th>Sweden</th>\n",
       "      <td>30.4</td>\n",
       "      <td>34.9</td>\n",
       "      <td>41.4</td>\n",
       "      <td>34.5</td>\n",
       "      <td>41.2</td>\n",
       "      <td>46.3</td>\n",
       "    </tr>\n",
       "    <tr>\n",
       "      <th>Finland</th>\n",
       "      <td>28.4</td>\n",
       "      <td>30.8</td>\n",
       "      <td>40.9</td>\n",
       "      <td>34.0</td>\n",
       "      <td>37.3</td>\n",
       "      <td>39.5</td>\n",
       "    </tr>\n",
       "    <tr>\n",
       "      <th>Austria</th>\n",
       "      <td>33.8</td>\n",
       "      <td>41.8</td>\n",
       "      <td>51.2</td>\n",
       "      <td>32.2</td>\n",
       "      <td>44.6</td>\n",
       "      <td>54.0</td>\n",
       "    </tr>\n",
       "    <tr>\n",
       "      <th>Hungary</th>\n",
       "      <td>31.0</td>\n",
       "      <td>60.2</td>\n",
       "      <td>79.7</td>\n",
       "      <td>25.4</td>\n",
       "      <td>56.3</td>\n",
       "      <td>86.4</td>\n",
       "    </tr>\n",
       "    <tr>\n",
       "      <th>Poland</th>\n",
       "      <td>19.3</td>\n",
       "      <td>36.0</td>\n",
       "      <td>44.9</td>\n",
       "      <td>21.4</td>\n",
       "      <td>33.4</td>\n",
       "      <td>44.4</td>\n",
       "    </tr>\n",
       "    <tr>\n",
       "      <th>Norway</th>\n",
       "      <td>31.4</td>\n",
       "      <td>26.9</td>\n",
       "      <td>27.5</td>\n",
       "      <td>37.3</td>\n",
       "      <td>39.6</td>\n",
       "      <td>40.6</td>\n",
       "    </tr>\n",
       "    <tr>\n",
       "      <th>Iceland</th>\n",
       "      <td>30.6</td>\n",
       "      <td>35.9</td>\n",
       "      <td>50.7</td>\n",
       "      <td>35.8</td>\n",
       "      <td>32.9</td>\n",
       "      <td>56.7</td>\n",
       "    </tr>\n",
       "    <tr>\n",
       "      <th>Ukraine</th>\n",
       "      <td>38.6</td>\n",
       "      <td>55.2</td>\n",
       "      <td>56.4</td>\n",
       "      <td>35.4</td>\n",
       "      <td>57.8</td>\n",
       "      <td>35.4</td>\n",
       "    </tr>\n",
       "  </tbody>\n",
       "</table>\n",
       "</div>"
      ],
      "text/plain": [
       "         1994_imports  2003_imports  2012_imports  1994_exports  2003_exports  \\\n",
       "country                                                                         \n",
       "Sweden           30.4          34.9          41.4          34.5          41.2   \n",
       "Finland          28.4          30.8          40.9          34.0          37.3   \n",
       "Austria          33.8          41.8          51.2          32.2          44.6   \n",
       "Hungary          31.0          60.2          79.7          25.4          56.3   \n",
       "Poland           19.3          36.0          44.9          21.4          33.4   \n",
       "Norway           31.4          26.9          27.5          37.3          39.6   \n",
       "Iceland          30.6          35.9          50.7          35.8          32.9   \n",
       "Ukraine          38.6          55.2          56.4          35.4          57.8   \n",
       "\n",
       "         2012_exports  \n",
       "country                \n",
       "Sweden           46.3  \n",
       "Finland          39.5  \n",
       "Austria          54.0  \n",
       "Hungary          86.4  \n",
       "Poland           44.4  \n",
       "Norway           40.6  \n",
       "Iceland          56.7  \n",
       "Ukraine          35.4  "
      ]
     },
     "execution_count": 96,
     "metadata": {},
     "output_type": "execute_result"
    }
   ],
   "source": [
    "#merge\n",
    "df = pd.merge(imp1, exp1, left_index=True, right_index=True, suffixes=('_imports','_exports'))\n",
    "in_the_union = pd.merge(imp_s, exp_s, left_index=True, right_index=True, suffixes=('_imports','_exports'))\n",
    "not_in_union = pd.merge(imp_n, exp_n, left_index=True, right_index=True, suffixes=('_imports','_exports'))\n",
    "\n",
    "df"
   ]
  },
  {
   "cell_type": "code",
   "execution_count": 95,
   "metadata": {},
   "outputs": [
    {
     "data": {
      "text/html": [
       "<div>\n",
       "<style scoped>\n",
       "    .dataframe tbody tr th:only-of-type {\n",
       "        vertical-align: middle;\n",
       "    }\n",
       "\n",
       "    .dataframe tbody tr th {\n",
       "        vertical-align: top;\n",
       "    }\n",
       "\n",
       "    .dataframe thead th {\n",
       "        text-align: right;\n",
       "    }\n",
       "</style>\n",
       "<table border=\"1\" class=\"dataframe\">\n",
       "  <thead>\n",
       "    <tr style=\"text-align: right;\">\n",
       "      <th></th>\n",
       "      <th>1994_imports</th>\n",
       "      <th>2003_imports</th>\n",
       "      <th>2012_imports</th>\n",
       "      <th>1994_exports</th>\n",
       "      <th>2003_exports</th>\n",
       "      <th>2012_exports</th>\n",
       "      <th>UE</th>\n",
       "    </tr>\n",
       "    <tr>\n",
       "      <th>country</th>\n",
       "      <th></th>\n",
       "      <th></th>\n",
       "      <th></th>\n",
       "      <th></th>\n",
       "      <th></th>\n",
       "      <th></th>\n",
       "      <th></th>\n",
       "    </tr>\n",
       "  </thead>\n",
       "  <tbody>\n",
       "    <tr>\n",
       "      <th>Sweden</th>\n",
       "      <td>30.4</td>\n",
       "      <td>34.9</td>\n",
       "      <td>41.4</td>\n",
       "      <td>34.5</td>\n",
       "      <td>41.2</td>\n",
       "      <td>46.3</td>\n",
       "      <td>s</td>\n",
       "    </tr>\n",
       "    <tr>\n",
       "      <th>Finland</th>\n",
       "      <td>28.4</td>\n",
       "      <td>30.8</td>\n",
       "      <td>40.9</td>\n",
       "      <td>34.0</td>\n",
       "      <td>37.3</td>\n",
       "      <td>39.5</td>\n",
       "      <td>s</td>\n",
       "    </tr>\n",
       "    <tr>\n",
       "      <th>Austria</th>\n",
       "      <td>33.8</td>\n",
       "      <td>41.8</td>\n",
       "      <td>51.2</td>\n",
       "      <td>32.2</td>\n",
       "      <td>44.6</td>\n",
       "      <td>54.0</td>\n",
       "      <td>s</td>\n",
       "    </tr>\n",
       "    <tr>\n",
       "      <th>Hungary</th>\n",
       "      <td>31.0</td>\n",
       "      <td>60.2</td>\n",
       "      <td>79.7</td>\n",
       "      <td>25.4</td>\n",
       "      <td>56.3</td>\n",
       "      <td>86.4</td>\n",
       "      <td>s</td>\n",
       "    </tr>\n",
       "    <tr>\n",
       "      <th>Poland</th>\n",
       "      <td>19.3</td>\n",
       "      <td>36.0</td>\n",
       "      <td>44.9</td>\n",
       "      <td>21.4</td>\n",
       "      <td>33.4</td>\n",
       "      <td>44.4</td>\n",
       "      <td>s</td>\n",
       "    </tr>\n",
       "    <tr>\n",
       "      <th>Norway</th>\n",
       "      <td>31.4</td>\n",
       "      <td>26.9</td>\n",
       "      <td>27.5</td>\n",
       "      <td>37.3</td>\n",
       "      <td>39.6</td>\n",
       "      <td>40.6</td>\n",
       "      <td>n</td>\n",
       "    </tr>\n",
       "    <tr>\n",
       "      <th>Iceland</th>\n",
       "      <td>30.6</td>\n",
       "      <td>35.9</td>\n",
       "      <td>50.7</td>\n",
       "      <td>35.8</td>\n",
       "      <td>32.9</td>\n",
       "      <td>56.7</td>\n",
       "      <td>n</td>\n",
       "    </tr>\n",
       "    <tr>\n",
       "      <th>Ukraine</th>\n",
       "      <td>38.6</td>\n",
       "      <td>55.2</td>\n",
       "      <td>56.4</td>\n",
       "      <td>35.4</td>\n",
       "      <td>57.8</td>\n",
       "      <td>35.4</td>\n",
       "      <td>n</td>\n",
       "    </tr>\n",
       "  </tbody>\n",
       "</table>\n",
       "</div>"
      ],
      "text/plain": [
       "         1994_imports  2003_imports  2012_imports  1994_exports  2003_exports  \\\n",
       "country                                                                         \n",
       "Sweden           30.4          34.9          41.4          34.5          41.2   \n",
       "Finland          28.4          30.8          40.9          34.0          37.3   \n",
       "Austria          33.8          41.8          51.2          32.2          44.6   \n",
       "Hungary          31.0          60.2          79.7          25.4          56.3   \n",
       "Poland           19.3          36.0          44.9          21.4          33.4   \n",
       "Norway           31.4          26.9          27.5          37.3          39.6   \n",
       "Iceland          30.6          35.9          50.7          35.8          32.9   \n",
       "Ukraine          38.6          55.2          56.4          35.4          57.8   \n",
       "\n",
       "         2012_exports UE  \n",
       "country                   \n",
       "Sweden           46.3  s  \n",
       "Finland          39.5  s  \n",
       "Austria          54.0  s  \n",
       "Hungary          86.4  s  \n",
       "Poland           44.4  s  \n",
       "Norway           40.6  n  \n",
       "Iceland          56.7  n  \n",
       "Ukraine          35.4  n  "
      ]
     },
     "execution_count": 95,
     "metadata": {},
     "output_type": "execute_result"
    }
   ],
   "source": [
    "#adicionando uma variavel para quem dizer quais paises fazem parte da UE.\n",
    "\n",
    "l1=[\"Sweden\", \"Finland\", \"Austria\", \"Hungary\", \"Poland\"]\n",
    "l2=[\"Norway\", \"Iceland\", \"Ukraine\"]\n",
    "df.loc[l1,\"UE\"]= \"s\"\n",
    "df.loc[l2,\"UE\"]= \"n\"\n",
    "df"
   ]
  },
  {
   "cell_type": "code",
   "execution_count": 97,
   "metadata": {},
   "outputs": [
    {
     "data": {
      "text/plain": [
       "(0, 120)"
      ]
     },
     "execution_count": 97,
     "metadata": {},
     "output_type": "execute_result"
    },
    {
     "data": {
      "image/png": "[encoded data removed]",
      "text/plain": [
       "<Figure size 432x288 with 1 Axes>"
      ]
     },
     "metadata": {
      "needs_background": "light"
     },
     "output_type": "display_data"
    },
    {
     "data": {
      "image/png": "[encoded data removed]",
      "text/plain": [
       "<Figure size 432x288 with 1 Axes>"
      ]
     },
     "metadata": {
      "needs_background": "light"
     },
     "output_type": "display_data"
    },
    {
     "data": {
      "image/png": "[encoded data removed]",
      "text/plain": [
       "<Figure size 432x288 with 1 Axes>"
      ]
     },
     "metadata": {
      "needs_background": "light"
     },
     "output_type": "display_data"
    }
   ],
   "source": [
    "\n",
    "#scatter de todos \n",
    "df.plot.scatter(x=\"1994_imports\", y = \"1994_exports\")\n",
    "plt.ylim(0,120)\n",
    "plt.xlim(0,120)\n",
    "df.plot.scatter(x=\"2003_imports\", y = \"2003_exports\")\n",
    "plt.ylim(0,120)\n",
    "plt.xlim(0,120)\n",
    "df.plot.scatter(x=\"2012_imports\", y = \"2012_exports\")\n",
    "plt.ylim(0,120)\n",
    "plt.xlim(0,120)\n"
   ]
  },
  {
   "cell_type": "markdown",
   "metadata": {},
   "source": [
    "## Comparação dos paises com o controle em 1994"
   ]
  },
  {
   "cell_type": "code",
   "execution_count": 125,
   "metadata": {},
   "outputs": [
    {
     "data": {
      "text/plain": [
       "<matplotlib.axes._subplots.AxesSubplot at 0x169cf3e2a90>"
      ]
     },
     "execution_count": 125,
     "metadata": {},
     "output_type": "execute_result"
    },
    {
     "data": {
      "image/png": "[encoded data removed]",
      "text/plain": [
       "<Figure size 432x288 with 1 Axes>"
      ]
     },
     "metadata": {
      "needs_background": "light"
     },
     "output_type": "display_data"
    }
   ],
   "source": [
    "in_the_union.plot.scatter(x='1994_imports',y='1994_exports');\n",
    "sns.regplot(in_the_union[\"1994_imports\"],in_the_union[\"1994_exports\"], color=('turquoise'))"
   ]
  },
  {
   "cell_type": "code",
   "execution_count": 126,
   "metadata": {},
   "outputs": [
    {
     "data": {
      "text/plain": [
       "<matplotlib.axes._subplots.AxesSubplot at 0x169cf2dafd0>"
      ]
     },
     "execution_count": 126,
     "metadata": {},
     "output_type": "execute_result"
    },
    {
     "data": {
      "image/png": "[encoded data removed]",
      "text/plain": [
       "<Figure size 432x288 with 1 Axes>"
      ]
     },
     "metadata": {
      "needs_background": "light"
     },
     "output_type": "display_data"
    }
   ],
   "source": [
    "not_in_union.plot.scatter(x='1994_imports',y='1994_exports');\n",
    "sns.regplot(not_in_union[\"1994_imports\"],not_in_union[\"1994_exports\"], color=('turquoise'))"
   ]
  },
  {
   "cell_type": "markdown",
   "metadata": {},
   "source": [
    "## Comparação dos paises com o controle em 2003"
   ]
  },
  {
   "cell_type": "code",
   "execution_count": 127,
   "metadata": {},
   "outputs": [
    {
     "data": {
      "text/plain": [
       "<matplotlib.axes._subplots.AxesSubplot at 0x169cf3c7cc0>"
      ]
     },
     "execution_count": 127,
     "metadata": {},
     "output_type": "execute_result"
    },
    {
     "data": {
      "image/png": "[encoded data removed]",
      "text/plain": [
       "<Figure size 432x288 with 1 Axes>"
      ]
     },
     "metadata": {
      "needs_background": "light"
     },
     "output_type": "display_data"
    }
   ],
   "source": [
    "in_the_union.plot.scatter(x='2003_imports',y='2003_exports');\n",
    "sns.regplot(in_the_union[\"2003_imports\"],in_the_union[\"2003_exports\"], color=('red'))"
   ]
  },
  {
   "cell_type": "code",
   "execution_count": 128,
   "metadata": {},
   "outputs": [
    {
     "data": {
      "text/plain": [
       "<matplotlib.axes._subplots.AxesSubplot at 0x169cf735cf8>"
      ]
     },
     "execution_count": 128,
     "metadata": {},
     "output_type": "execute_result"
    },
    {
     "data": {
      "image/png": "[encoded data removed]",
      "text/plain": [
       "<Figure size 432x288 with 1 Axes>"
      ]
     },
     "metadata": {
      "needs_background": "light"
     },
     "output_type": "display_data"
    }
   ],
   "source": [
    "not_in_union.plot.scatter(x='2003_imports',y='2003_exports');\n",
    "sns.regplot(not_in_union[\"2003_imports\"],not_in_union[\"2003_exports\"], color=('red'))"
   ]
  },
  {
   "cell_type": "markdown",
   "metadata": {},
   "source": [
    "## Comparação dos paises com o controle em 2012"
   ]
  },
  {
   "cell_type": "code",
   "execution_count": 129,
   "metadata": {},
   "outputs": [
    {
     "data": {
      "text/plain": [
       "<matplotlib.axes._subplots.AxesSubplot at 0x169cf676eb8>"
      ]
     },
     "execution_count": 129,
     "metadata": {},
     "output_type": "execute_result"
    },
    {
     "data": {
      "image/png": "[encoded data removed]",
      "text/plain": [
       "<Figure size 432x288 with 1 Axes>"
      ]
     },
     "metadata": {
      "needs_background": "light"
     },
     "output_type": "display_data"
    }
   ],
   "source": [
    "in_the_union.plot.scatter(x='2012_imports',y='2012_exports');\n",
    "sns.regplot(in_the_union[\"2012_imports\"],in_the_union[\"2012_exports\"], color=('blue'))"
   ]
  },
  {
   "cell_type": "code",
   "execution_count": 130,
   "metadata": {},
   "outputs": [
    {
     "data": {
      "text/plain": [
       "<matplotlib.axes._subplots.AxesSubplot at 0x169cf580ba8>"
      ]
     },
     "execution_count": 130,
     "metadata": {},
     "output_type": "execute_result"
    },
    {
     "data": {
      "image/png": "[encoded data removed]",
      "text/plain": [
       "<Figure size 432x288 with 1 Axes>"
      ]
     },
     "metadata": {
      "needs_background": "light"
     },
     "output_type": "display_data"
    }
   ],
   "source": [
    "not_in_union.plot.scatter(x='2012_imports',y='2012_exports');\n",
    "sns.regplot(not_in_union[\"2012_imports\"],not_in_union[\"2012_exports\"], color=('blue'))"
   ]
  },
  {
   "cell_type": "markdown",
   "metadata": {},
   "source": [
    "## Conclusão"
   ]
  },
  {
   "cell_type": "markdown",
   "metadata": {},
   "source": [
    "Analisando os dados coletados e possível dizer que alguns dos países que entraram para união europeia tiveram um aumento significante em importação e exportação. Os países escolhidos como controle também tiveram aumentos nas suas taxas de importação e exportação seguindo uma tendência vista nos países europeus, porém, as taxas dos países que entraram para a União Europeia em 2004 (Polônia e Hungria) cresceram mesmo em comparação com as tendências do período analisado. Assim, é possível afirmar que entrar para a União Europeia pode sim afetar drasticamente os níveis de importação e exportação relativos ao PIB de acordo com os dados analisados nesse projeto."
   ]
  }
 ],
 "metadata": {
  "kernelspec": {
   "display_name": "Python 3",
   "language": "python",
   "name": "python3"
  },
  "language_info": {
   "codemirror_mode": {
    "name": "ipython",
    "version": 3
   },
   "file_extension": ".py",
   "mimetype": "text/x-python",
   "name": "python",
   "nbconvert_exporter": "python",
   "pygments_lexer": "ipython3",
   "version": "3.7.1"
  }
 },
 "nbformat": 4,
 "nbformat_minor": 2
}
